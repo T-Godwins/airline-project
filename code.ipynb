{
 "cells": [
  {
   "cell_type": "code",
   "execution_count": null,
   "metadata": {},
   "outputs": [],
   "source": [
    "# !pip install pandas numpy"
   ]
  },
  {
   "cell_type": "code",
   "execution_count": 12,
   "metadata": {},
   "outputs": [],
   "source": [
    "import pandas as pd\n",
    "import numpy as np\n",
    "import warnings\n",
    "warnings.filterwarnings(\"ignore\")\n",
    "from sklearn.model_selection import train_test_split\n",
    "from sklearn.ensemble import RandomForestRegressor\n",
    "from sklearn.preprocessing import LabelEncoder\n"
   ]
  },
  {
   "cell_type": "code",
   "execution_count": 29,
   "metadata": {},
   "outputs": [
    {
     "name": "stdout",
     "output_type": "stream",
     "text": [
      "airline_df.shape: (98619, 15)\n",
      "delta_df.shape: (2689, 8)\n"
     ]
    }
   ],
   "source": [
    "airline_df = pd.read_csv(\"datasets/Airline Dataset Updated - v2.csv\")\n",
    "delta_df = pd.read_csv(\"datasets/Delta_Airline_Review_Dataset-Asof02172023.csv\")\n",
    "\n",
    "print(f'airline_df.shape: {airline_df.shape}')\n",
    "print(f'delta_df.shape: {delta_df.shape}')\n"
   ]
  },
  {
   "cell_type": "markdown",
   "metadata": {},
   "source": [
    "### Data Cleaning"
   ]
  },
  {
   "cell_type": "code",
   "execution_count": 30,
   "metadata": {},
   "outputs": [],
   "source": [
    "clean_col = \"\"\n",
    "for col in delta_df.columns:\n",
    "    clean_col = col.strip()\n",
    "    delta_df.rename(columns={col: clean_col}, inplace=True)"
   ]
  },
  {
   "cell_type": "markdown",
   "metadata": {},
   "source": [
    "### Satisfaction Analysis"
   ]
  },
  {
   "cell_type": "code",
   "execution_count": 31,
   "metadata": {},
   "outputs": [
    {
     "data": {
      "text/html": [
       "<div>\n",
       "<style scoped>\n",
       "    .dataframe tbody tr th:only-of-type {\n",
       "        vertical-align: middle;\n",
       "    }\n",
       "\n",
       "    .dataframe tbody tr th {\n",
       "        vertical-align: top;\n",
       "    }\n",
       "\n",
       "    .dataframe thead th {\n",
       "        text-align: right;\n",
       "    }\n",
       "</style>\n",
       "<table border=\"1\" class=\"dataframe\">\n",
       "  <thead>\n",
       "    <tr style=\"text-align: right;\">\n",
       "      <th></th>\n",
       "      <th>Customer_ID</th>\n",
       "      <th>star rating</th>\n",
       "      <th>date</th>\n",
       "      <th>Seat Type</th>\n",
       "      <th>routes</th>\n",
       "      <th>traveler_types</th>\n",
       "      <th>country</th>\n",
       "      <th>reviews</th>\n",
       "    </tr>\n",
       "  </thead>\n",
       "  <tbody>\n",
       "    <tr>\n",
       "      <th>0</th>\n",
       "      <td>1</td>\n",
       "      <td>4</td>\n",
       "      <td>17th February 2023</td>\n",
       "      <td>Economy Class</td>\n",
       "      <td>New York to Tel Aviv</td>\n",
       "      <td>Solo Leisure</td>\n",
       "      <td>United States</td>\n",
       "      <td>✅ Trip Verified |  First, travel starts 6pm ar...</td>\n",
       "    </tr>\n",
       "    <tr>\n",
       "      <th>1</th>\n",
       "      <td>2</td>\n",
       "      <td>1</td>\n",
       "      <td>16th February 2023</td>\n",
       "      <td>Economy Class</td>\n",
       "      <td>Milwaukee to Ft Lauderdale</td>\n",
       "      <td>Business</td>\n",
       "      <td>United States</td>\n",
       "      <td>✅ Trip Verified |  Delta did not issue any wea...</td>\n",
       "    </tr>\n",
       "    <tr>\n",
       "      <th>2</th>\n",
       "      <td>3</td>\n",
       "      <td>1</td>\n",
       "      <td>10th February 2023</td>\n",
       "      <td>Economy Class</td>\n",
       "      <td>New York to Charlotte</td>\n",
       "      <td>Business</td>\n",
       "      <td>United States</td>\n",
       "      <td>✅ Trip Verified |  Per our pilot, there would ...</td>\n",
       "    </tr>\n",
       "    <tr>\n",
       "      <th>3</th>\n",
       "      <td>4</td>\n",
       "      <td>1</td>\n",
       "      <td>8th February 2023</td>\n",
       "      <td>Premium Economy</td>\n",
       "      <td>Atlanta to Cape Town</td>\n",
       "      <td>Family Leisure</td>\n",
       "      <td>United States</td>\n",
       "      <td>✅ Trip Verified |  We flew from Atlanta to Cap...</td>\n",
       "    </tr>\n",
       "    <tr>\n",
       "      <th>4</th>\n",
       "      <td>5</td>\n",
       "      <td>2</td>\n",
       "      <td>6th February 2023</td>\n",
       "      <td>Economy Class</td>\n",
       "      <td>Dallas to Atlanta</td>\n",
       "      <td>Solo Leisure</td>\n",
       "      <td>United Kingdom</td>\n",
       "      <td>✅ Trip Verified |  Checkin staff always seem u...</td>\n",
       "    </tr>\n",
       "  </tbody>\n",
       "</table>\n",
       "</div>"
      ],
      "text/plain": [
       "   Customer_ID  star rating                date        Seat Type  \\\n",
       "0            1            4  17th February 2023    Economy Class   \n",
       "1            2            1  16th February 2023    Economy Class   \n",
       "2            3            1  10th February 2023    Economy Class   \n",
       "3            4            1   8th February 2023  Premium Economy   \n",
       "4            5            2   6th February 2023    Economy Class   \n",
       "\n",
       "                       routes  traveler_types         country  \\\n",
       "0        New York to Tel Aviv    Solo Leisure   United States   \n",
       "1  Milwaukee to Ft Lauderdale        Business   United States   \n",
       "2       New York to Charlotte        Business   United States   \n",
       "3        Atlanta to Cape Town  Family Leisure   United States   \n",
       "4           Dallas to Atlanta    Solo Leisure  United Kingdom   \n",
       "\n",
       "                                             reviews  \n",
       "0  ✅ Trip Verified |  First, travel starts 6pm ar...  \n",
       "1  ✅ Trip Verified |  Delta did not issue any wea...  \n",
       "2  ✅ Trip Verified |  Per our pilot, there would ...  \n",
       "3  ✅ Trip Verified |  We flew from Atlanta to Cap...  \n",
       "4  ✅ Trip Verified |  Checkin staff always seem u...  "
      ]
     },
     "execution_count": 31,
     "metadata": {},
     "output_type": "execute_result"
    }
   ],
   "source": [
    "delta_df.head()\n"
   ]
  },
  {
   "cell_type": "code",
   "execution_count": 36,
   "metadata": {},
   "outputs": [
    {
     "data": {
      "text/plain": [
       "RandomForestRegressor(random_state=42)"
      ]
     },
     "execution_count": 36,
     "metadata": {},
     "output_type": "execute_result"
    }
   ],
   "source": [
    "# Encode categorical features\n",
    "label_encoders = {}\n",
    "for col in ['date', 'Seat Type', 'traveler_types', 'routes', 'country']:\n",
    "    if col in delta_df.columns:\n",
    "        le = LabelEncoder()\n",
    "        delta_df[col] = le.fit_transform(delta_df[col].astype(str))\n",
    "        label_encoders[col] = le\n",
    "\n",
    "\n",
    "# Features and target\n",
    "X = delta_df[['date', 'traveler_types']]\n",
    "y = delta_df['star rating']\n",
    "\n",
    "# Train-test split\n",
    "X_train, X_test, y_train, y_test = train_test_split(X, y, test_size=0.2, random_state=42)\n",
    "\n",
    "# Model training\n",
    "model = RandomForestRegressor(n_estimators=100, random_state=42)\n",
    "model.fit(X_train, y_train)"
   ]
  },
  {
   "cell_type": "code",
   "execution_count": 37,
   "metadata": {},
   "outputs": [
    {
     "name": "stdout",
     "output_type": "stream",
     "text": [
      "MSE: 14.268917205503685\n",
      "R² Score: -0.20246466360235482\n"
     ]
    }
   ],
   "source": [
    "from sklearn.metrics import mean_squared_error, r2_score\n",
    "\n",
    "y_pred = model.predict(X_test)\n",
    "print(\"MSE:\", mean_squared_error(y_test, y_pred))\n",
    "print(\"R² Score:\", r2_score(y_test, y_pred))"
   ]
  }
 ],
 "metadata": {
  "kernelspec": {
   "display_name": ".venv",
   "language": "python",
   "name": "python3"
  },
  "language_info": {
   "codemirror_mode": {
    "name": "ipython",
    "version": 3
   },
   "file_extension": ".py",
   "mimetype": "text/x-python",
   "name": "python",
   "nbconvert_exporter": "python",
   "pygments_lexer": "ipython3",
   "version": "3.9.19"
  }
 },
 "nbformat": 4,
 "nbformat_minor": 2
}
