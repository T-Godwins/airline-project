{
 "cells": [
  {
   "cell_type": "code",
   "execution_count": 48,
   "metadata": {},
   "outputs": [],
   "source": [
    "# !pip install pandas numpy"
   ]
  },
  {
   "cell_type": "code",
   "execution_count": 59,
   "metadata": {},
   "outputs": [],
   "source": [
    "import pandas as pd\n",
    "import numpy as np\n",
    "import warnings\n",
    "warnings.filterwarnings(\"ignore\")\n",
    "from sklearn.model_selection import train_test_split\n",
    "from sklearn.ensemble import RandomForestRegressor\n",
    "from sklearn.preprocessing import LabelEncoder\n",
    "import matplotlib.pyplot as plt\n",
    "from sklearn.tree import plot_tree\n"
   ]
  },
  {
   "cell_type": "code",
   "execution_count": null,
   "metadata": {},
   "outputs": [],
   "source": [
    "airline_df = pd.read_csv(\"datasets/Airline Dataset Updated - v2.csv\")\n",
    "delta_df = pd.read_csv(\"datasets/Delta_Airline_Review_Dataset-Asof02172023.csv\")\n",
    "\n",
    "print(f'airline_df.shape: {airline_df.shape}')\n",
    "print(f'delta_df.shape: {delta_df.shape}')\n"
   ]
  },
  {
   "cell_type": "markdown",
   "metadata": {},
   "source": [
    "### Data Cleaning"
   ]
  },
  {
   "cell_type": "code",
   "execution_count": 51,
   "metadata": {},
   "outputs": [],
   "source": [
    "clean_col = \"\"\n",
    "for col in delta_df.columns:\n",
    "    clean_col = col.strip()\n",
    "    delta_df.rename(columns={col: clean_col}, inplace=True)"
   ]
  },
  {
   "cell_type": "markdown",
   "metadata": {},
   "source": [
    "### Satisfaction Analysis"
   ]
  },
  {
   "cell_type": "code",
   "execution_count": null,
   "metadata": {},
   "outputs": [],
   "source": [
    "delta_df.head()\n"
   ]
  },
  {
   "cell_type": "code",
   "execution_count": null,
   "metadata": {},
   "outputs": [],
   "source": [
    "# Encode categorical features\n",
    "label_encoders = {}\n",
    "for col in ['date', 'Seat Type', 'traveler_types', 'routes', 'country']:\n",
    "    if col in delta_df.columns:\n",
    "        le = LabelEncoder()\n",
    "        delta_df[col] = le.fit_transform(delta_df[col].astype(str))\n",
    "        label_encoders[col] = le\n",
    "\n",
    "\n",
    "# Features and target\n",
    "X = delta_df[['date', 'traveler_types']]\n",
    "y = delta_df['star rating']\n",
    "\n",
    "# Train-test split\n",
    "X_train, X_test, y_train, y_test = train_test_split(X, y, test_size=0.2, random_state=42)\n",
    "\n",
    "# Model training\n",
    "model = RandomForestRegressor(n_estimators=100, random_state=42)\n",
    "model.fit(X_train, y_train)"
   ]
  },
  {
   "cell_type": "code",
   "execution_count": null,
   "metadata": {},
   "outputs": [],
   "source": [
    "from sklearn.metrics import mean_squared_error, r2_score\n",
    "\n",
    "y_pred = model.predict(X_test)\n",
    "print(\"MSE:\", mean_squared_error(y_test, y_pred))\n",
    "print(\"R² Score:\", r2_score(y_test, y_pred))"
   ]
  },
  {
   "cell_type": "markdown",
   "metadata": {},
   "source": [
    "### Visualization Functions"
   ]
  },
  {
   "cell_type": "code",
   "execution_count": 55,
   "metadata": {},
   "outputs": [],
   "source": [
    "def plot_decision_tree(model, feature_names, max_depth=3, figsize=(20,10)):\n",
    "    plt.figure(figsize=figsize)\n",
    "    # Get a single tree from the forest\n",
    "    tree = model.estimators_[0]\n",
    "    plot_tree(tree, \n",
    "             feature_names=feature_names,\n",
    "             max_depth=max_depth,\n",
    "             filled=True,\n",
    "             rounded=True)\n",
    "    plt.show()\n",
    "\n",
    "def plot_feature_importance(model, feature_names, figsize=(10,6)):\n",
    "    importances = model.feature_importances_\n",
    "    indices = np.argsort(importances)[::-1]\n",
    "    \n",
    "    plt.figure(figsize=figsize)\n",
    "    plt.title('Feature Importance in Delta Airlines Reviews')\n",
    "    plt.bar(range(len(importances)), \n",
    "            importances[indices],\n",
    "            align='center')\n",
    "    plt.xticks(range(len(importances)), \n",
    "               [feature_names[i] for i in indices], \n",
    "               rotation=45,\n",
    "               ha='right')\n",
    "    plt.tight_layout()\n",
    "    plt.show()"
   ]
  },
  {
   "cell_type": "markdown",
   "metadata": {},
   "source": [
    "### Visualization"
   ]
  },
  {
   "cell_type": "code",
   "execution_count": null,
   "metadata": {},
   "outputs": [],
   "source": [
    "# Visualize feature importance\n",
    "feature_names = ['Date', 'Traveler Types']  # Your actual feature names\n",
    "plot_feature_importance(\n",
    "    model=model,\n",
    "    feature_names=feature_names\n",
    ")\n",
    "\n",
    "# Visualize a single tree from the forest\n",
    "plot_decision_tree(\n",
    "    model=model,\n",
    "    feature_names=feature_names,\n",
    "    max_depth=3\n",
    ")"
   ]
  },
  {
   "cell_type": "code",
   "execution_count": null,
   "metadata": {},
   "outputs": [],
   "source": [
    "# Save visualizations\n",
    "import os\n",
    "\n",
    "# Create images directory if it doesn't exist\n",
    "if not os.path.exists('images'):\n",
    "    os.makedirs('images')\n",
    "\n",
    "# Save feature importance plot\n",
    "plt.figure(figsize=(10,6))\n",
    "plot_feature_importance(model=model, feature_names=feature_names)\n",
    "plt.savefig('images/feature_importance.png', bbox_inches='tight', dpi=300)\n",
    "plt.close()\n",
    "\n",
    "# Save decision tree plot\n",
    "plt.figure(figsize=(20,10))\n",
    "plot_decision_tree(model=model, feature_names=feature_names, max_depth=3)\n",
    "plt.savefig('images/decision_tree.png', bbox_inches='tight', dpi=300)\n",
    "plt.close()\n",
    "\n",
    "def update_readme_with_results(mse, r2_score):\n",
    "    \"\"\"Update README with model results and images\"\"\"\n",
    "    with open('README.md', 'r') as file:\n",
    "        content = file.read()\n",
    "    \n",
    "    results = f\"\"\"\n",
    "### Model Results\n",
    "- Mean Squared Error: {mse:.2f}\n",
    "- R² Score: {r2_score:.2f}\n",
    "\n",
    "#### Feature Importance\n",
    "![Feature Importance](images/feature_importance.png)\n",
    "1. Date: Accounts for most of the variance in ratings\n",
    "2. Traveler Types: Has less impact on ratings\n",
    "\n",
    "#### Decision Tree Visualization\n",
    "![Decision Tree](images/decision_tree.png)\n",
    "\n",
    "#### Model Interpretation\n",
    "- The current model shows poor performance (negative R² score) suggesting that:\n",
    "  - We need more features (like Seat Type, Routes, Country)\n",
    "  - Date might need better preprocessing (e.g., extract month, day of week)\n",
    "  - Text analysis of reviews could provide valuable insights\n",
    "  - Consider using more advanced models or ensemble methods\n",
    "\"\"\"\n",
    "    \n",
    "    # Add results after the prediction section\n",
    "    updated_content = content.replace(\n",
    "        \"2. Predicting customer satisfaction (Delta dataset)\",\n",
    "        \"2. Predicting customer satisfaction (Delta dataset)\\n\" + results\n",
    "    )\n",
    "    \n",
    "    with open('README.md', 'w') as file:\n",
    "        file.write(updated_content)\n",
    "\n",
    "# Update README with current results and images\n",
    "update_readme_with_results(\n",
    "    mse=mean_squared_error(y_test, y_pred),\n",
    "    r2_score=r2_score(y_test, y_pred)\n",
    ")\n",
    "\n",
    "# Add images folder to .gitignore\n",
    "with open('.gitignore', 'a') as f:\n",
    "    f.write('\\n# Ignore images folder\\n!images/\\n')"
   ]
  },
  {
   "cell_type": "code",
   "execution_count": null,
   "metadata": {},
   "outputs": [],
   "source": [
    "from sentence_transformers import SentenceTransformer\n",
    "def tokenize_text(text):\n",
    "    model = SentenceTransformer('all-MiniLM-L6-v2')\n",
    "    embeddings = model.encode(text)\n",
    "    return embeddings\n",
    "\n",
    "delta_df['embedding'] = delta_df['reviews'].apply(tokenize_text)\n",
    "\n",
    "delta_df.head()"
   ]
  }
 ],
 "metadata": {
  "kernelspec": {
   "display_name": ".venv",
   "language": "python",
   "name": "python3"
  },
  "language_info": {
   "codemirror_mode": {
    "name": "ipython",
    "version": 3
   },
   "file_extension": ".py",
   "mimetype": "text/x-python",
   "name": "python",
   "nbconvert_exporter": "python",
   "pygments_lexer": "ipython3",
   "version": "3.9.19"
  }
 },
 "nbformat": 4,
 "nbformat_minor": 2
}
