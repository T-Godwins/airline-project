{
 "cells": [
  {
   "cell_type": "code",
   "execution_count": 2,
   "metadata": {},
   "outputs": [
    {
     "name": "stdout",
     "output_type": "stream",
     "text": [
      "Requirement already satisfied: pandas in ./.conda/lib/python3.11/site-packages (2.2.3)\n",
      "Requirement already satisfied: numpy in ./.conda/lib/python3.11/site-packages (1.24.4)\n",
      "Collecting seaborn\n",
      "  Downloading seaborn-0.13.2-py3-none-any.whl.metadata (5.4 kB)\n",
      "Requirement already satisfied: matplotlib in ./.conda/lib/python3.11/site-packages (3.10.1)\n",
      "Requirement already satisfied: scikit-learn in ./.conda/lib/python3.11/site-packages (1.6.1)\n",
      "Requirement already satisfied: sentence-transformers in ./.conda/lib/python3.11/site-packages (3.4.1)\n",
      "Requirement already satisfied: python-dateutil>=2.8.2 in ./.conda/lib/python3.11/site-packages (from pandas) (2.9.0.post0)\n",
      "Requirement already satisfied: pytz>=2020.1 in ./.conda/lib/python3.11/site-packages (from pandas) (2025.1)\n",
      "Requirement already satisfied: tzdata>=2022.7 in ./.conda/lib/python3.11/site-packages (from pandas) (2025.1)\n",
      "Requirement already satisfied: contourpy>=1.0.1 in ./.conda/lib/python3.11/site-packages (from matplotlib) (1.3.1)\n",
      "Requirement already satisfied: cycler>=0.10 in ./.conda/lib/python3.11/site-packages (from matplotlib) (0.12.1)\n",
      "Requirement already satisfied: fonttools>=4.22.0 in ./.conda/lib/python3.11/site-packages (from matplotlib) (4.56.0)\n",
      "Requirement already satisfied: kiwisolver>=1.3.1 in ./.conda/lib/python3.11/site-packages (from matplotlib) (1.4.8)\n",
      "Requirement already satisfied: packaging>=20.0 in ./.conda/lib/python3.11/site-packages (from matplotlib) (24.2)\n",
      "Requirement already satisfied: pillow>=8 in ./.conda/lib/python3.11/site-packages (from matplotlib) (11.1.0)\n",
      "Requirement already satisfied: pyparsing>=2.3.1 in ./.conda/lib/python3.11/site-packages (from matplotlib) (3.2.1)\n",
      "Requirement already satisfied: scipy>=1.6.0 in ./.conda/lib/python3.11/site-packages (from scikit-learn) (1.15.2)\n",
      "Requirement already satisfied: joblib>=1.2.0 in ./.conda/lib/python3.11/site-packages (from scikit-learn) (1.4.2)\n",
      "Requirement already satisfied: threadpoolctl>=3.1.0 in ./.conda/lib/python3.11/site-packages (from scikit-learn) (3.5.0)\n",
      "Requirement already satisfied: transformers<5.0.0,>=4.41.0 in ./.conda/lib/python3.11/site-packages (from sentence-transformers) (4.49.0)\n",
      "Requirement already satisfied: tqdm in ./.conda/lib/python3.11/site-packages (from sentence-transformers) (4.67.1)\n",
      "Requirement already satisfied: torch>=1.11.0 in ./.conda/lib/python3.11/site-packages (from sentence-transformers) (2.2.2)\n",
      "Requirement already satisfied: huggingface-hub>=0.20.0 in ./.conda/lib/python3.11/site-packages (from sentence-transformers) (0.29.1)\n",
      "Requirement already satisfied: filelock in ./.conda/lib/python3.11/site-packages (from huggingface-hub>=0.20.0->sentence-transformers) (3.17.0)\n",
      "Requirement already satisfied: fsspec>=2023.5.0 in ./.conda/lib/python3.11/site-packages (from huggingface-hub>=0.20.0->sentence-transformers) (2025.2.0)\n",
      "Requirement already satisfied: pyyaml>=5.1 in ./.conda/lib/python3.11/site-packages (from huggingface-hub>=0.20.0->sentence-transformers) (6.0.2)\n",
      "Requirement already satisfied: requests in ./.conda/lib/python3.11/site-packages (from huggingface-hub>=0.20.0->sentence-transformers) (2.32.3)\n",
      "Requirement already satisfied: typing-extensions>=3.7.4.3 in ./.conda/lib/python3.11/site-packages (from huggingface-hub>=0.20.0->sentence-transformers) (4.12.2)\n",
      "Requirement already satisfied: six>=1.5 in ./.conda/lib/python3.11/site-packages (from python-dateutil>=2.8.2->pandas) (1.17.0)\n",
      "Requirement already satisfied: sympy in ./.conda/lib/python3.11/site-packages (from torch>=1.11.0->sentence-transformers) (1.13.3)\n",
      "Requirement already satisfied: networkx in ./.conda/lib/python3.11/site-packages (from torch>=1.11.0->sentence-transformers) (3.4.2)\n",
      "Requirement already satisfied: jinja2 in ./.conda/lib/python3.11/site-packages (from torch>=1.11.0->sentence-transformers) (3.1.5)\n",
      "Requirement already satisfied: regex!=2019.12.17 in ./.conda/lib/python3.11/site-packages (from transformers<5.0.0,>=4.41.0->sentence-transformers) (2024.11.6)\n",
      "Requirement already satisfied: tokenizers<0.22,>=0.21 in ./.conda/lib/python3.11/site-packages (from transformers<5.0.0,>=4.41.0->sentence-transformers) (0.21.0)\n",
      "Requirement already satisfied: safetensors>=0.4.1 in ./.conda/lib/python3.11/site-packages (from transformers<5.0.0,>=4.41.0->sentence-transformers) (0.5.3)\n",
      "Requirement already satisfied: MarkupSafe>=2.0 in ./.conda/lib/python3.11/site-packages (from jinja2->torch>=1.11.0->sentence-transformers) (3.0.2)\n",
      "Requirement already satisfied: charset-normalizer<4,>=2 in ./.conda/lib/python3.11/site-packages (from requests->huggingface-hub>=0.20.0->sentence-transformers) (3.4.1)\n",
      "Requirement already satisfied: idna<4,>=2.5 in ./.conda/lib/python3.11/site-packages (from requests->huggingface-hub>=0.20.0->sentence-transformers) (3.10)\n",
      "Requirement already satisfied: urllib3<3,>=1.21.1 in ./.conda/lib/python3.11/site-packages (from requests->huggingface-hub>=0.20.0->sentence-transformers) (2.3.0)\n",
      "Requirement already satisfied: certifi>=2017.4.17 in ./.conda/lib/python3.11/site-packages (from requests->huggingface-hub>=0.20.0->sentence-transformers) (2025.1.31)\n",
      "Requirement already satisfied: mpmath<1.4,>=1.1.0 in ./.conda/lib/python3.11/site-packages (from sympy->torch>=1.11.0->sentence-transformers) (1.3.0)\n",
      "Downloading seaborn-0.13.2-py3-none-any.whl (294 kB)\n",
      "Installing collected packages: seaborn\n",
      "Successfully installed seaborn-0.13.2\n",
      "Note: you may need to restart the kernel to use updated packages.\n"
     ]
    }
   ],
   "source": [
    "%pip install pandas numpy seaborn matplotlib scikit-learn sentence-transformers"
   ]
  },
  {
   "cell_type": "markdown",
   "metadata": {},
   "source": [
    "### Importing Libraries ###"
   ]
  },
  {
   "cell_type": "code",
   "execution_count": 3,
   "metadata": {},
   "outputs": [],
   "source": [
    "import warnings\n",
    "warnings.filterwarnings(\"ignore\")\n",
    "\n",
    "import pandas as pd\n",
    "import numpy as np\n",
    "from sklearn.model_selection import train_test_split\n",
    "from sklearn.ensemble import RandomForestClassifier\n",
    "from sklearn.metrics import accuracy_score, classification_report\n",
    "from sentence_transformers import SentenceTransformer\n",
    "from preprocessing import clean_data\n",
    "import matplotlib.pyplot as plt\n",
    "import seaborn as sns\n",
    "from sklearn.tree import plot_tree"
   ]
  },
  {
   "cell_type": "markdown",
   "metadata": {},
   "source": [
    "### Loading & Inspecting Data ###\n"
   ]
  },
  {
   "cell_type": "code",
   "execution_count": 4,
   "metadata": {},
   "outputs": [
    {
     "name": "stdout",
     "output_type": "stream",
     "text": [
      "----Data Info----\n",
      "\n",
      "<class 'pandas.core.frame.DataFrame'>\n",
      "RangeIndex: 2689 entries, 0 to 2688\n",
      "Data columns (total 8 columns):\n",
      " #   Column          Non-Null Count  Dtype \n",
      "---  ------          --------------  ----- \n",
      " 0   Customer_ID     2689 non-null   int64 \n",
      " 1   star rating     2689 non-null   int64 \n",
      " 2   date            2689 non-null   object\n",
      " 3    Seat Type      2689 non-null   object\n",
      " 4   routes          2263 non-null   object\n",
      " 5   traveler_types  2282 non-null   object\n",
      " 6   country         2689 non-null   object\n",
      " 7   reviews         2689 non-null   object\n",
      "dtypes: int64(2), object(6)\n",
      "memory usage: 168.2+ KB\n",
      "None\n",
      "\n",
      "----Data Shape----\n",
      "\n",
      "delta_df.shape: (2689, 8)\n",
      "\n",
      "----Data Stats----\n",
      "\n",
      "       Customer_ID  star rating\n",
      "count  2689.000000  2689.000000\n",
      "mean   1345.000000     3.860915\n",
      "std     776.391761     3.462060\n",
      "min       1.000000     0.000000\n",
      "25%     673.000000     1.000000\n",
      "50%    1345.000000     2.000000\n",
      "75%    2017.000000     8.000000\n",
      "max    2689.000000    10.000000\n",
      "\n",
      "----Data Null----\n",
      "\n",
      "Customer_ID         0\n",
      "star rating         0\n",
      "date                0\n",
      " Seat Type          0\n",
      "routes            426\n",
      "traveler_types    407\n",
      "country             0\n",
      "reviews             0\n",
      "dtype: int64\n"
     ]
    }
   ],
   "source": [
    "# Loading Data\n",
    "delta_df = pd.read_csv(\"datasets/Delta_Airline_Review_Dataset-Asof02172023.csv\")\n",
    "\n",
    "\n",
    "# Inspecting Data\n",
    "print(\"----Data Info----\\n\")\n",
    "print(delta_df.info())\n",
    "\n",
    "print(\"\\n----Data Shape----\\n\")\n",
    "print(f'delta_df.shape: {delta_df.shape}')\n",
    "\n",
    "print(\"\\n----Data Stats----\\n\")\n",
    "print(delta_df.describe())\n",
    "\n",
    "print(\"\\n----Data Null----\\n\")\n",
    "print(delta_df.isnull().sum())\n"
   ]
  },
  {
   "cell_type": "markdown",
   "metadata": {},
   "source": [
    "### Cleaning Data ###"
   ]
  },
  {
   "cell_type": "code",
   "execution_count": 5,
   "metadata": {},
   "outputs": [
    {
     "name": "stdout",
     "output_type": "stream",
     "text": [
      "----Data Cleaned----\n",
      "\n",
      "<class 'pandas.core.frame.DataFrame'>\n",
      "RangeIndex: 2689 entries, 0 to 2688\n",
      "Data columns (total 9 columns):\n",
      " #   Column          Non-Null Count  Dtype         \n",
      "---  ------          --------------  -----         \n",
      " 0   Customer_ID     2689 non-null   int64         \n",
      " 1   star rating     2689 non-null   int64         \n",
      " 2   date            2689 non-null   datetime64[ns]\n",
      " 3    Seat Type      2689 non-null   object        \n",
      " 4   routes          2689 non-null   object        \n",
      " 5   traveler_types  2689 non-null   object        \n",
      " 6   country         2689 non-null   object        \n",
      " 7   reviews         2689 non-null   object        \n",
      " 8   sentiment       2689 non-null   category      \n",
      "dtypes: category(1), datetime64[ns](1), int64(2), object(5)\n",
      "memory usage: 170.9+ KB\n",
      "None\n",
      "\n",
      "Null values:\n",
      " Customer_ID       0\n",
      "star rating       0\n",
      "date              0\n",
      " Seat Type        0\n",
      "routes            0\n",
      "traveler_types    0\n",
      "country           0\n",
      "reviews           0\n",
      "sentiment         0\n",
      "dtype: int64\n",
      "\n",
      "Sentiment distribution:\n",
      " sentiment\n",
      "Negative    1658\n",
      "Positive    1031\n",
      "Neutral        0\n",
      "Name: count, dtype: int64\n",
      "cleaned_delta_df.shape: (2689, 9)\n"
     ]
    }
   ],
   "source": [
    "cleaned_delta_df = clean_data(delta_df)\n",
    "print(f'cleaned_delta_df.shape: {cleaned_delta_df.shape}')"
   ]
  },
  {
   "cell_type": "markdown",
   "metadata": {},
   "source": [
    "### Preliminary Visualization ###"
   ]
  },
  {
   "cell_type": "code",
   "execution_count": 7,
   "metadata": {},
   "outputs": [
    {
     "data": {
      "image/png": "[encoded data removed]",
      "text/plain": [
       "<Figure size 1000x600 with 1 Axes>"
      ]
     },
     "metadata": {},
     "output_type": "display_data"
    }
   ],
   "source": [
    "# Data description distribution\n",
    "plt.figure(figsize=(10, 6))\n",
    "sns.countplot(x='sentiment', data=cleaned_delta_df)\n",
    "plt.title('Sentiment Distribution')\n",
    "plt.xlabel('Sentiment')\n",
    "plt.ylabel('Count')\n",
    "plt.show()\n"
   ]
  },
  {
   "cell_type": "markdown",
   "metadata": {},
   "source": [
    "### Preprocessing Data ###"
   ]
  },
  {
   "cell_type": "code",
   "execution_count": 8,
   "metadata": {},
   "outputs": [],
   "source": [
    "def tokenize_text(text):\n",
    "    model = SentenceTransformer('all-MiniLM-L6-v2')\n",
    "    embeddings = model.encode(text)\n",
    "    return embeddings\n",
    "\n",
    "cleaned_delta_df['embedding'] = cleaned_delta_df['reviews'].apply(tokenize_text)"
   ]
  },
  {
   "cell_type": "markdown",
   "metadata": {},
   "source": [
    "### Model Training ###"
   ]
  },
  {
   "cell_type": "code",
   "execution_count": null,
   "metadata": {},
   "outputs": [],
   "source": [
    "# Features and target\n",
    "X = np.array(cleaned_delta_df['embedding'].tolist())\n",
    "y = cleaned_delta_df['sentiment'].values\n",
    "\n",
    "# Split the data into training and testing sets\n",
    "X_train, X_test, y_train, y_test = train_test_split(X, y, test_size=0.2, random_state=42)\n",
    "\n",
    "# Initialize the Random Forest classifier\n",
    "model = RandomForestClassifier(n_estimators=100, random_state=42)\n",
    "\n",
    "# Train the model\n",
    "model.fit(X_train, y_train)\n",
    "\n",
    "# Make predictions on the test set\n",
    "y_pred = model.predict(X_test)\n",
    "\n",
    "# Evaluate the model\n",
    "accuracy = accuracy_score(y_test, y_pred)\n",
    "report = classification_report(y_test, y_pred)\n",
    "\n",
    "print(f\"Accuracy: {accuracy:.2f}\")\n",
    "print(f\"Classification Report:\\n{report}\")"
   ]
  },
  {
   "cell_type": "markdown",
   "metadata": {},
   "source": [
    "### Visualizing Model ###"
   ]
  },
  {
   "cell_type": "code",
   "execution_count": null,
   "metadata": {},
   "outputs": [],
   "source": [
    "def plot_decision_tree(model, feature_names, max_depth=3, figsize=(20,10)):\n",
    "    plt.figure(figsize=figsize)\n",
    "    # Get a single tree from the forest\n",
    "    tree = model.estimators_[0]\n",
    "    plot_tree(tree, \n",
    "             feature_names=feature_names,\n",
    "             max_depth=max_depth,\n",
    "             filled=True,\n",
    "             rounded=True)\n",
    "    plt.show()\n",
    "\n",
    "def plot_feature_importance(model, feature_names, figsize=(10,6)):\n",
    "    importances = model.feature_importances_\n",
    "    indices = np.argsort(importances)[::-1]\n",
    "    \n",
    "    plt.figure(figsize=figsize)\n",
    "    plt.title('Feature Importance in Delta Airlines Reviews')\n",
    "    plt.bar(range(len(importances)), \n",
    "            importances[indices],\n",
    "            align='center')\n",
    "    plt.xticks(range(len(importances)), \n",
    "               [feature_names[i] for i in indices], \n",
    "               rotation=45,\n",
    "               ha='right')\n",
    "    plt.tight_layout()\n",
    "    plt.show()"
   ]
  },
  {
   "cell_type": "code",
   "execution_count": null,
   "metadata": {},
   "outputs": [],
   "source": [
    "# Visualize feature importance\n",
    "feature_names = ['Date', 'Traveler Types']  # Your actual feature names\n",
    "plot_feature_importance(\n",
    "    model=model,\n",
    "    feature_names=feature_names\n",
    ")\n",
    "\n",
    "# Visualize a single tree from the forest\n",
    "plot_decision_tree(\n",
    "    model=model,\n",
    "    feature_names=feature_names,\n",
    "    max_depth=3\n",
    ")"
   ]
  }
 ],
 "metadata": {
  "kernelspec": {
   "display_name": "Python 3",
   "language": "python",
   "name": "python3"
  },
  "language_info": {
   "codemirror_mode": {
    "name": "ipython",
    "version": 3
   },
   "file_extension": ".py",
   "mimetype": "text/x-python",
   "name": "python",
   "nbconvert_exporter": "python",
   "pygments_lexer": "ipython3",
   "version": "3.11.11"
  }
 },
 "nbformat": 4,
 "nbformat_minor": 2
}
