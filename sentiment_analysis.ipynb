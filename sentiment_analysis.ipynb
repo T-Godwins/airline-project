{
 "cells": [
  {
   "cell_type": "code",
   "execution_count": null,
   "metadata": {},
   "outputs": [],
   "source": [
    "%pip install pandas numpy seaborn matplotlib scikit-learn sentence-transformers"
   ]
  },
  {
   "cell_type": "markdown",
   "metadata": {},
   "source": [
    "### Importing Libraries ###"
   ]
  },
  {
   "cell_type": "code",
   "execution_count": null,
   "metadata": {},
   "outputs": [],
   "source": [
    "import warnings\n",
    "warnings.filterwarnings(\"ignore\")\n",
    "\n",
    "import pandas as pd\n",
    "import numpy as np\n",
    "from sklearn.model_selection import train_test_split\n",
    "from sklearn.ensemble import RandomForestClassifier\n",
    "from sklearn.metrics import accuracy_score, classification_report\n",
    "from sentence_transformers import SentenceTransformer\n",
    "from preprocessing import clean_data\n",
    "import matplotlib.pyplot as plt\n",
    "import seaborn as sns\n",
    "from sklearn.tree import plot_tree"
   ]
  },
  {
   "cell_type": "markdown",
   "metadata": {},
   "source": [
    "### Loading & Inspecting Data ###\n"
   ]
  },
  {
   "cell_type": "code",
   "execution_count": null,
   "metadata": {},
   "outputs": [],
   "source": [
    "# Loading Data\n",
    "delta_df = pd.read_csv(\"datasets/Delta_Airline_Review_Dataset-Asof02172023.csv\")\n",
    "\n",
    "\n",
    "# Inspecting Data\n",
    "print(\"----Data Info----\\n\")\n",
    "print(delta_df.info())\n",
    "\n",
    "print(\"\\n----Data Shape----\\n\")\n",
    "print(f'delta_df.shape: {delta_df.shape}')\n",
    "\n",
    "print(\"\\n----Data Stats----\\n\")\n",
    "print(delta_df.describe())\n",
    "\n",
    "print(\"\\n----Data Null----\\n\")\n",
    "print(delta_df.isnull().sum())\n"
   ]
  },
  {
   "cell_type": "markdown",
   "metadata": {},
   "source": [
    "### Cleaning Data ###"
   ]
  },
  {
   "cell_type": "code",
   "execution_count": null,
   "metadata": {},
   "outputs": [],
   "source": [
    "cleaned_delta_df = clean_data(delta_df)\n",
    "print(f'cleaned_delta_df.shape: {cleaned_delta_df.shape}')"
   ]
  },
  {
   "cell_type": "markdown",
   "metadata": {},
   "source": [
    "### Preliminary Visualization ###"
   ]
  },
  {
   "cell_type": "code",
   "execution_count": null,
   "metadata": {},
   "outputs": [],
   "source": [
    "# Data description distribution\n",
    "plt.figure(figsize=(10, 6))\n",
    "sns.countplot(x='sentiment', data=delta_df)\n",
    "plt.title('Sentiment Distribution')\n",
    "plt.xlabel('Sentiment')\n",
    "plt.ylabel('Count')\n",
    "plt.show()\n"
   ]
  },
  {
   "cell_type": "markdown",
   "metadata": {},
   "source": [
    "### Preprocessing Data ###"
   ]
  },
  {
   "cell_type": "code",
   "execution_count": null,
   "metadata": {},
   "outputs": [],
   "source": [
    "def tokenize_text(text):\n",
    "    model = SentenceTransformer('all-MiniLM-L6-v2')\n",
    "    embeddings = model.encode(text)\n",
    "    return embeddings\n",
    "\n",
    "cleaned_delta_df['embedding'] = cleaned_delta_df['reviews'].apply(tokenize_text)"
   ]
  },
  {
   "cell_type": "markdown",
   "metadata": {},
   "source": [
    "### Model Training ###"
   ]
  },
  {
   "cell_type": "code",
   "execution_count": null,
   "metadata": {},
   "outputs": [],
   "source": [
    "# Features and target\n",
    "X = np.array(cleaned_delta_df['embedding'].tolist())\n",
    "y = cleaned_delta_df['sentiment'].values\n",
    "\n",
    "# Split the data into training and testing sets\n",
    "X_train, X_test, y_train, y_test = train_test_split(X, y, test_size=0.2, random_state=42)\n",
    "\n",
    "# Initialize the Random Forest classifier\n",
    "model = RandomForestClassifier(n_estimators=100, random_state=42)\n",
    "\n",
    "# Train the model\n",
    "model.fit(X_train, y_train)\n",
    "\n",
    "# Make predictions on the test set\n",
    "y_pred = model.predict(X_test)\n",
    "\n",
    "# Evaluate the model\n",
    "accuracy = accuracy_score(y_test, y_pred)\n",
    "report = classification_report(y_test, y_pred)\n",
    "\n",
    "print(f\"Accuracy: {accuracy:.2f}\")\n",
    "print(f\"Classification Report:\\n{report}\")"
   ]
  },
  {
   "cell_type": "markdown",
   "metadata": {},
   "source": [
    "### Visualizing Model ###"
   ]
  },
  {
   "cell_type": "code",
   "execution_count": null,
   "metadata": {},
   "outputs": [],
   "source": [
    "def plot_decision_tree(model, feature_names, max_depth=3, figsize=(20,10)):\n",
    "    plt.figure(figsize=figsize)\n",
    "    # Get a single tree from the forest\n",
    "    tree = model.estimators_[0]\n",
    "    plot_tree(tree, \n",
    "             feature_names=feature_names,\n",
    "             max_depth=max_depth,\n",
    "             filled=True,\n",
    "             rounded=True)\n",
    "    plt.show()\n",
    "\n",
    "def plot_feature_importance(model, feature_names, figsize=(10,6)):\n",
    "    importances = model.feature_importances_\n",
    "    indices = np.argsort(importances)[::-1]\n",
    "    \n",
    "    plt.figure(figsize=figsize)\n",
    "    plt.title('Feature Importance in Delta Airlines Reviews')\n",
    "    plt.bar(range(len(importances)), \n",
    "            importances[indices],\n",
    "            align='center')\n",
    "    plt.xticks(range(len(importances)), \n",
    "               [feature_names[i] for i in indices], \n",
    "               rotation=45,\n",
    "               ha='right')\n",
    "    plt.tight_layout()\n",
    "    plt.show()"
   ]
  },
  {
   "cell_type": "code",
   "execution_count": null,
   "metadata": {},
   "outputs": [],
   "source": [
    "# Visualize feature importance\n",
    "feature_names = ['Date', 'Traveler Types']  # Your actual feature names\n",
    "plot_feature_importance(\n",
    "    model=model,\n",
    "    feature_names=feature_names\n",
    ")\n",
    "\n",
    "# Visualize a single tree from the forest\n",
    "plot_decision_tree(\n",
    "    model=model,\n",
    "    feature_names=feature_names,\n",
    "    max_depth=3\n",
    ")"
   ]
  }
 ],
 "metadata": {
  "kernelspec": {
   "display_name": "Python 3",
   "language": "python",
   "name": "python3"
  },
  "language_info": {
   "codemirror_mode": {
    "name": "ipython",
    "version": 3
   },
   "file_extension": ".py",
   "mimetype": "text/x-python",
   "name": "python",
   "nbconvert_exporter": "python",
   "pygments_lexer": "ipython3",
   "version": "3.11.11"
  }
 },
 "nbformat": 4,
 "nbformat_minor": 2
}
